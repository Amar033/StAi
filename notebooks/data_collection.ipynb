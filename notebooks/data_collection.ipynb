{
 "cells": [
  {
   "cell_type": "markdown",
   "metadata": {},
   "source": [
    "# 📈 Stock Market Data Collection for StAI (Stock Prediction AI)\n",
    "\n",
    "This notebook collects historical stock market data using the `yfinance` API for use in the StAI project. We'll fetch daily data for the last 3 years for selected stocks.\n"
   ]
  },
  {
   "cell_type": "code",
   "execution_count": 2,
   "metadata": {},
   "outputs": [
    {
     "name": "stdout",
     "output_type": "stream",
     "text": [
      "Note: you may need to restart the kernel to use updated packages.\n"
     ]
    },
    {
     "name": "stderr",
     "output_type": "stream",
     "text": [
      "ERROR: pip's dependency resolver does not currently take into account all the packages that are installed. This behaviour is the source of the following dependency conflicts.\n",
      "realtimestt 0.3.0 requires torch==2.3.1, but you have torch 2.6.0+cu118 which is incompatible.\n",
      "realtimestt 0.3.0 requires torchaudio==2.3.1, but you have torchaudio 2.6.0 which is incompatible.\n",
      "realtimestt 0.3.0 requires websockets==v12.0, but you have websockets 15.0.1 which is incompatible.\n",
      "gradio 3.43.1 requires websockets<12.0,>=10.0, but you have websockets 15.0.1 which is incompatible.\n",
      "gradio-client 0.5.0 requires websockets<12.0,>=10.0, but you have websockets 15.0.1 which is incompatible.\n",
      "selenium 4.7.2 requires urllib3[socks]~=1.26, but you have urllib3 2.2.3 which is incompatible.\n",
      "\n",
      "[notice] A new release of pip is available: 25.0.1 -> 25.1.1\n",
      "[notice] To update, run: python.exe -m pip install --upgrade pip\n"
     ]
    }
   ],
   "source": [
    "pip install yfinance --quiet"
   ]
  },
  {
   "cell_type": "code",
   "execution_count": 3,
   "metadata": {},
   "outputs": [],
   "source": [
    "import yfinance as yf\n",
    "import pandas as pd\n",
    "import os\n",
    "from datetime import datetime\n"
   ]
  },
  {
   "cell_type": "code",
   "execution_count": 4,
   "metadata": {},
   "outputs": [],
   "source": [
    "tickers = [\n",
    "    \"AAPL\", \"GOOGL\", \"MSFT\", \"TSLA\",\n",
    "    \"RELIANCE.NS\", \"TCS.NS\", \"INFY.NS\", \"WIPRO.NS\",\n",
    "    \"^NSEI\", \"^BSESN\", \"^GSPC\"\n",
    "]"
   ]
  },
  {
   "cell_type": "code",
   "execution_count": 5,
   "metadata": {},
   "outputs": [],
   "source": [
    "start_date='2021-01-01'\n",
    "end_date=datetime.today().strftime('%Y-%m-%d')\n"
   ]
  },
  {
   "cell_type": "code",
   "execution_count": 9,
   "metadata": {},
   "outputs": [],
   "source": [
    "import random\n",
    "import time"
   ]
  },
  {
   "cell_type": "code",
   "execution_count": 11,
   "metadata": {},
   "outputs": [
    {
     "name": "stdout",
     "output_type": "stream",
     "text": [
      "Waiting 6.4s...\n",
      "Downloading data for AAPL\n"
     ]
    },
    {
     "name": "stderr",
     "output_type": "stream",
     "text": [
      "[*********************100%***********************]  1 of 1 completed\n"
     ]
    },
    {
     "name": "stdout",
     "output_type": "stream",
     "text": [
      "Saved to ../data/raw/AAPL.csv\n",
      "Waiting 5.3s...\n",
      "Downloading data for GOOGL\n"
     ]
    },
    {
     "name": "stderr",
     "output_type": "stream",
     "text": [
      "[*********************100%***********************]  1 of 1 completed\n"
     ]
    },
    {
     "name": "stdout",
     "output_type": "stream",
     "text": [
      "Saved to ../data/raw/GOOGL.csv\n",
      "Waiting 5.7s...\n",
      "Downloading data for MSFT\n"
     ]
    },
    {
     "name": "stderr",
     "output_type": "stream",
     "text": [
      "[*********************100%***********************]  1 of 1 completed\n"
     ]
    },
    {
     "name": "stdout",
     "output_type": "stream",
     "text": [
      "Saved to ../data/raw/MSFT.csv\n",
      "Waiting 6.0s...\n",
      "Downloading data for TSLA\n"
     ]
    },
    {
     "name": "stderr",
     "output_type": "stream",
     "text": [
      "[*********************100%***********************]  1 of 1 completed\n"
     ]
    },
    {
     "name": "stdout",
     "output_type": "stream",
     "text": [
      "Saved to ../data/raw/TSLA.csv\n",
      "Waiting 6.6s...\n",
      "Downloading data for RELIANCE.NS\n"
     ]
    },
    {
     "name": "stderr",
     "output_type": "stream",
     "text": [
      "[*********************100%***********************]  1 of 1 completed\n"
     ]
    },
    {
     "name": "stdout",
     "output_type": "stream",
     "text": [
      "Saved to ../data/raw/RELIANCE.NS.csv\n",
      "Waiting 6.7s...\n",
      "Downloading data for TCS.NS\n"
     ]
    },
    {
     "name": "stderr",
     "output_type": "stream",
     "text": [
      "[*********************100%***********************]  1 of 1 completed\n"
     ]
    },
    {
     "name": "stdout",
     "output_type": "stream",
     "text": [
      "Saved to ../data/raw/TCS.NS.csv\n",
      "Waiting 6.1s...\n",
      "Downloading data for INFY.NS\n"
     ]
    },
    {
     "name": "stderr",
     "output_type": "stream",
     "text": [
      "[*********************100%***********************]  1 of 1 completed\n"
     ]
    },
    {
     "name": "stdout",
     "output_type": "stream",
     "text": [
      "Saved to ../data/raw/INFY.NS.csv\n",
      "Waiting 5.6s...\n",
      "Downloading data for WIPRO.NS\n"
     ]
    },
    {
     "name": "stderr",
     "output_type": "stream",
     "text": [
      "[*********************100%***********************]  1 of 1 completed\n"
     ]
    },
    {
     "name": "stdout",
     "output_type": "stream",
     "text": [
      "Saved to ../data/raw/WIPRO.NS.csv\n",
      "Waiting 6.3s...\n",
      "Downloading data for ^NSEI\n"
     ]
    },
    {
     "name": "stderr",
     "output_type": "stream",
     "text": [
      "[*********************100%***********************]  1 of 1 completed\n"
     ]
    },
    {
     "name": "stdout",
     "output_type": "stream",
     "text": [
      "Saved to ../data/raw/^NSEI.csv\n",
      "Waiting 5.4s...\n",
      "Downloading data for ^BSESN\n"
     ]
    },
    {
     "name": "stderr",
     "output_type": "stream",
     "text": [
      "[*********************100%***********************]  1 of 1 completed\n"
     ]
    },
    {
     "name": "stdout",
     "output_type": "stream",
     "text": [
      "Saved to ../data/raw/^BSESN.csv\n",
      "Waiting 5.4s...\n",
      "Downloading data for ^GSPC\n"
     ]
    },
    {
     "name": "stderr",
     "output_type": "stream",
     "text": [
      "[*********************100%***********************]  1 of 1 completed"
     ]
    },
    {
     "name": "stdout",
     "output_type": "stream",
     "text": [
      "Saved to ../data/raw/^GSPC.csv\n"
     ]
    },
    {
     "name": "stderr",
     "output_type": "stream",
     "text": [
      "\n"
     ]
    }
   ],
   "source": [
    "for ticker in tickers:\n",
    "    delay = random.uniform(5,7)\n",
    "    print(f\"Waiting {delay:.1f}s...\")\n",
    "    time.sleep(delay)\n",
    "    print(f\"Downloading data for {ticker}\")\n",
    "    data=yf.download(ticker,start=start_date, end=end_date)\n",
    "    file_path=f\"../data/raw/{ticker}.csv\"\n",
    "    data.to_csv(file_path)\n",
    "    print(f\"Saved to {file_path}\")"
   ]
  },
  {
   "cell_type": "code",
   "execution_count": 12,
   "metadata": {},
   "outputs": [
    {
     "data": {
      "text/html": [
       "<div>\n",
       "<style scoped>\n",
       "    .dataframe tbody tr th:only-of-type {\n",
       "        vertical-align: middle;\n",
       "    }\n",
       "\n",
       "    .dataframe tbody tr th {\n",
       "        vertical-align: top;\n",
       "    }\n",
       "\n",
       "    .dataframe thead th {\n",
       "        text-align: right;\n",
       "    }\n",
       "</style>\n",
       "<table border=\"1\" class=\"dataframe\">\n",
       "  <thead>\n",
       "    <tr style=\"text-align: right;\">\n",
       "      <th></th>\n",
       "      <th>Price</th>\n",
       "      <th>Close</th>\n",
       "      <th>High</th>\n",
       "      <th>Low</th>\n",
       "      <th>Open</th>\n",
       "      <th>Volume</th>\n",
       "    </tr>\n",
       "  </thead>\n",
       "  <tbody>\n",
       "    <tr>\n",
       "      <th>0</th>\n",
       "      <td>Ticker</td>\n",
       "      <td>TSLA</td>\n",
       "      <td>TSLA</td>\n",
       "      <td>TSLA</td>\n",
       "      <td>TSLA</td>\n",
       "      <td>TSLA</td>\n",
       "    </tr>\n",
       "    <tr>\n",
       "      <th>1</th>\n",
       "      <td>Date</td>\n",
       "      <td>NaN</td>\n",
       "      <td>NaN</td>\n",
       "      <td>NaN</td>\n",
       "      <td>NaN</td>\n",
       "      <td>NaN</td>\n",
       "    </tr>\n",
       "    <tr>\n",
       "      <th>2</th>\n",
       "      <td>2021-01-04</td>\n",
       "      <td>243.2566680908203</td>\n",
       "      <td>248.163330078125</td>\n",
       "      <td>239.06333923339844</td>\n",
       "      <td>239.82000732421875</td>\n",
       "      <td>145914600</td>\n",
       "    </tr>\n",
       "    <tr>\n",
       "      <th>3</th>\n",
       "      <td>2021-01-05</td>\n",
       "      <td>245.0366668701172</td>\n",
       "      <td>246.94667053222656</td>\n",
       "      <td>239.73333740234375</td>\n",
       "      <td>241.22000122070312</td>\n",
       "      <td>96735600</td>\n",
       "    </tr>\n",
       "    <tr>\n",
       "      <th>4</th>\n",
       "      <td>2021-01-06</td>\n",
       "      <td>251.9933319091797</td>\n",
       "      <td>258.0</td>\n",
       "      <td>249.6999969482422</td>\n",
       "      <td>252.8300018310547</td>\n",
       "      <td>134100000</td>\n",
       "    </tr>\n",
       "  </tbody>\n",
       "</table>\n",
       "</div>"
      ],
      "text/plain": [
       "        Price              Close                High                 Low  \\\n",
       "0      Ticker               TSLA                TSLA                TSLA   \n",
       "1        Date                NaN                 NaN                 NaN   \n",
       "2  2021-01-04  243.2566680908203    248.163330078125  239.06333923339844   \n",
       "3  2021-01-05  245.0366668701172  246.94667053222656  239.73333740234375   \n",
       "4  2021-01-06  251.9933319091797               258.0   249.6999969482422   \n",
       "\n",
       "                 Open     Volume  \n",
       "0                TSLA       TSLA  \n",
       "1                 NaN        NaN  \n",
       "2  239.82000732421875  145914600  \n",
       "3  241.22000122070312   96735600  \n",
       "4   252.8300018310547  134100000  "
      ]
     },
     "execution_count": 12,
     "metadata": {},
     "output_type": "execute_result"
    }
   ],
   "source": [
    "pd.read_csv(\"../data/raw/TSLA.csv\").head()"
   ]
  },
  {
   "cell_type": "markdown",
   "metadata": {},
   "source": [
    "### Data Preprocessing for the project"
   ]
  },
  {
   "cell_type": "code",
   "execution_count": 25,
   "metadata": {},
   "outputs": [
    {
     "data": {
      "text/html": [
       "<div>\n",
       "<style scoped>\n",
       "    .dataframe tbody tr th:only-of-type {\n",
       "        vertical-align: middle;\n",
       "    }\n",
       "\n",
       "    .dataframe tbody tr th {\n",
       "        vertical-align: top;\n",
       "    }\n",
       "\n",
       "    .dataframe thead th {\n",
       "        text-align: right;\n",
       "    }\n",
       "</style>\n",
       "<table border=\"1\" class=\"dataframe\">\n",
       "  <thead>\n",
       "    <tr style=\"text-align: right;\">\n",
       "      <th></th>\n",
       "      <th>Date</th>\n",
       "      <th>Close</th>\n",
       "      <th>High</th>\n",
       "      <th>Low</th>\n",
       "      <th>Open</th>\n",
       "      <th>Volume</th>\n",
       "    </tr>\n",
       "  </thead>\n",
       "  <tbody>\n",
       "    <tr>\n",
       "      <th>0</th>\n",
       "      <td>2021-01-04</td>\n",
       "      <td>126.23971557617188</td>\n",
       "      <td>130.33682094023055</td>\n",
       "      <td>123.65463382486577</td>\n",
       "      <td>130.24902933388864</td>\n",
       "      <td>143301900</td>\n",
       "    </tr>\n",
       "    <tr>\n",
       "      <th>1</th>\n",
       "      <td>2021-01-05</td>\n",
       "      <td>127.80044555664062</td>\n",
       "      <td>128.51257236547815</td>\n",
       "      <td>125.28364991225538</td>\n",
       "      <td>125.73238714953698</td>\n",
       "      <td>97664900</td>\n",
       "    </tr>\n",
       "    <tr>\n",
       "      <th>2</th>\n",
       "      <td>2021-01-06</td>\n",
       "      <td>123.49852752685547</td>\n",
       "      <td>127.83951504225611</td>\n",
       "      <td>123.28391593808439</td>\n",
       "      <td>124.59109223219541</td>\n",
       "      <td>155088000</td>\n",
       "    </tr>\n",
       "    <tr>\n",
       "      <th>3</th>\n",
       "      <td>2021-01-07</td>\n",
       "      <td>127.71267700195312</td>\n",
       "      <td>128.40528973786473</td>\n",
       "      <td>124.72764426980214</td>\n",
       "      <td>125.21539510538169</td>\n",
       "      <td>109578200</td>\n",
       "    </tr>\n",
       "    <tr>\n",
       "      <th>4</th>\n",
       "      <td>2021-01-08</td>\n",
       "      <td>128.8150177001953</td>\n",
       "      <td>129.38081053932285</td>\n",
       "      <td>127.03959725138373</td>\n",
       "      <td>129.18569826826229</td>\n",
       "      <td>105158200</td>\n",
       "    </tr>\n",
       "  </tbody>\n",
       "</table>\n",
       "</div>"
      ],
      "text/plain": [
       "         Date               Close                High                 Low  \\\n",
       "0  2021-01-04  126.23971557617188  130.33682094023055  123.65463382486577   \n",
       "1  2021-01-05  127.80044555664062  128.51257236547815  125.28364991225538   \n",
       "2  2021-01-06  123.49852752685547  127.83951504225611  123.28391593808439   \n",
       "3  2021-01-07  127.71267700195312  128.40528973786473  124.72764426980214   \n",
       "4  2021-01-08   128.8150177001953  129.38081053932285  127.03959725138373   \n",
       "\n",
       "                 Open     Volume  \n",
       "0  130.24902933388864  143301900  \n",
       "1  125.73238714953698   97664900  \n",
       "2  124.59109223219541  155088000  \n",
       "3  125.21539510538169  109578200  \n",
       "4  129.18569826826229  105158200  "
      ]
     },
     "execution_count": 25,
     "metadata": {},
     "output_type": "execute_result"
    }
   ],
   "source": [
    "df=pd.read_csv(\"../data/processed/AAPL_processed.csv\")\n",
    "df = df.drop(0).reset_index(drop=True)\n",
    "df = df.rename(columns={'Price': 'Date'})\n",
    "df.head()"
   ]
  },
  {
   "cell_type": "code",
   "execution_count": 42,
   "metadata": {},
   "outputs": [
    {
     "name": "stdout",
     "output_type": "stream",
     "text": [
      "loading AAPL\n",
      "loading GOOGL\n",
      "loading MSFT\n",
      "loading TSLA\n",
      "loading RELIANCE.NS\n",
      "loading TCS.NS\n",
      "loading INFY.NS\n",
      "loading WIPRO.NS\n",
      "loading ^NSEI\n",
      "loading ^BSESN\n",
      "loading ^GSPC\n"
     ]
    }
   ],
   "source": [
    "for ticker in tickers:\n",
    "    print(f\"loading {ticker}\")\n",
    "    df=pd.read_csv(f\"../data/processed/{ticker}_processed.csv\")\n",
    "    df = df.drop(0).reset_index(drop=True)\n",
    "    df = df.rename(columns={'Price': 'Date'})\n",
    "    df.head()\n",
    "    df=df.dropna()\n",
    "    df['Close'] = pd.to_numeric(df['Close'], errors='coerce')\n",
    "    df['MA10']=df['Close'].rolling(10).mean()\n",
    "    df['MA50']=df['Close'].rolling(50).mean()\n",
    "    df['Returns'] = df['Close'].pct_change()\n",
    "    df['Volatility'] = df['Close'].rolling(10).std()\n",
    "    df.dropna()\n",
    "    df.drop(df.index[:49], inplace=True)\n",
    "    # df=df[df[\"MA10\"].notna]\n",
    "    df.to_csv(f\"../data/processed/{ticker}_processed.csv\",index=False)"
   ]
  },
  {
   "cell_type": "code",
   "execution_count": 43,
   "metadata": {},
   "outputs": [
    {
     "data": {
      "text/html": [
       "<div>\n",
       "<style scoped>\n",
       "    .dataframe tbody tr th:only-of-type {\n",
       "        vertical-align: middle;\n",
       "    }\n",
       "\n",
       "    .dataframe tbody tr th {\n",
       "        vertical-align: top;\n",
       "    }\n",
       "\n",
       "    .dataframe thead th {\n",
       "        text-align: right;\n",
       "    }\n",
       "</style>\n",
       "<table border=\"1\" class=\"dataframe\">\n",
       "  <thead>\n",
       "    <tr style=\"text-align: right;\">\n",
       "      <th></th>\n",
       "      <th>Date</th>\n",
       "      <th>Close</th>\n",
       "      <th>High</th>\n",
       "      <th>Low</th>\n",
       "      <th>Open</th>\n",
       "      <th>Volume</th>\n",
       "      <th>MA10</th>\n",
       "      <th>MA50</th>\n",
       "      <th>Returns</th>\n",
       "      <th>Volatility</th>\n",
       "    </tr>\n",
       "  </thead>\n",
       "  <tbody>\n",
       "    <tr>\n",
       "      <th>97</th>\n",
       "      <td>2021-12-22</td>\n",
       "      <td>4696.560059</td>\n",
       "      <td>4697.669922</td>\n",
       "      <td>4645.529785</td>\n",
       "      <td>4650.359863</td>\n",
       "      <td>3319610000</td>\n",
       "      <td>4659.550049</td>\n",
       "      <td>4620.479189</td>\n",
       "      <td>0.010180</td>\n",
       "      <td>44.138306</td>\n",
       "    </tr>\n",
       "    <tr>\n",
       "      <th>98</th>\n",
       "      <td>2021-12-23</td>\n",
       "      <td>4725.790039</td>\n",
       "      <td>4740.740234</td>\n",
       "      <td>4703.959961</td>\n",
       "      <td>4703.959961</td>\n",
       "      <td>2913040000</td>\n",
       "      <td>4665.384033</td>\n",
       "      <td>4627.718994</td>\n",
       "      <td>0.006224</td>\n",
       "      <td>48.897490</td>\n",
       "    </tr>\n",
       "    <tr>\n",
       "      <th>99</th>\n",
       "      <td>2021-12-27</td>\n",
       "      <td>4791.189941</td>\n",
       "      <td>4791.490234</td>\n",
       "      <td>4733.990234</td>\n",
       "      <td>4733.990234</td>\n",
       "      <td>2770290000</td>\n",
       "      <td>4673.301025</td>\n",
       "      <td>4634.777598</td>\n",
       "      <td>0.013839</td>\n",
       "      <td>61.953481</td>\n",
       "    </tr>\n",
       "    <tr>\n",
       "      <th>100</th>\n",
       "      <td>2021-12-28</td>\n",
       "      <td>4786.350098</td>\n",
       "      <td>4807.020020</td>\n",
       "      <td>4780.040039</td>\n",
       "      <td>4795.490234</td>\n",
       "      <td>2707920000</td>\n",
       "      <td>4685.039014</td>\n",
       "      <td>4641.077197</td>\n",
       "      <td>-0.001010</td>\n",
       "      <td>71.435782</td>\n",
       "    </tr>\n",
       "    <tr>\n",
       "      <th>101</th>\n",
       "      <td>2021-12-29</td>\n",
       "      <td>4793.060059</td>\n",
       "      <td>4804.060059</td>\n",
       "      <td>4778.080078</td>\n",
       "      <td>4788.640137</td>\n",
       "      <td>2963310000</td>\n",
       "      <td>4700.936035</td>\n",
       "      <td>4647.209199</td>\n",
       "      <td>0.001402</td>\n",
       "      <td>76.356775</td>\n",
       "    </tr>\n",
       "  </tbody>\n",
       "</table>\n",
       "</div>"
      ],
      "text/plain": [
       "           Date        Close         High          Low         Open  \\\n",
       "97   2021-12-22  4696.560059  4697.669922  4645.529785  4650.359863   \n",
       "98   2021-12-23  4725.790039  4740.740234  4703.959961  4703.959961   \n",
       "99   2021-12-27  4791.189941  4791.490234  4733.990234  4733.990234   \n",
       "100  2021-12-28  4786.350098  4807.020020  4780.040039  4795.490234   \n",
       "101  2021-12-29  4793.060059  4804.060059  4778.080078  4788.640137   \n",
       "\n",
       "         Volume         MA10         MA50   Returns  Volatility  \n",
       "97   3319610000  4659.550049  4620.479189  0.010180   44.138306  \n",
       "98   2913040000  4665.384033  4627.718994  0.006224   48.897490  \n",
       "99   2770290000  4673.301025  4634.777598  0.013839   61.953481  \n",
       "100  2707920000  4685.039014  4641.077197 -0.001010   71.435782  \n",
       "101  2963310000  4700.936035  4647.209199  0.001402   76.356775  "
      ]
     },
     "execution_count": 43,
     "metadata": {},
     "output_type": "execute_result"
    }
   ],
   "source": [
    "df.head()"
   ]
  },
  {
   "cell_type": "code",
   "execution_count": null,
   "metadata": {},
   "outputs": [],
   "source": []
  }
 ],
 "metadata": {
  "kernelspec": {
   "display_name": "venv",
   "language": "python",
   "name": "venv"
  },
  "language_info": {
   "codemirror_mode": {
    "name": "ipython",
    "version": 3
   },
   "file_extension": ".py",
   "mimetype": "text/x-python",
   "name": "python",
   "nbconvert_exporter": "python",
   "pygments_lexer": "ipython3",
   "version": "3.9.13"
  }
 },
 "nbformat": 4,
 "nbformat_minor": 2
}
